{
  "cells": [
    {
      "cell_type": "markdown",
      "metadata": {
        "id": "mjypz_x2GOwH"
      },
      "source": [
        "# STEP 1"
      ],
      "id": "mjypz_x2GOwH"
    },
    {
      "cell_type": "code",
      "execution_count": 1,
      "metadata": {
        "id": "u4AhRU4XGOwP"
      },
      "outputs": [],
      "source": [
        "import pandas as pd\n",
        "import numpy as np\n",
        "from matplotlib import pyplot as plt\n",
        "import seaborn as sns"
      ],
      "id": "u4AhRU4XGOwP"
    },
    {
      "cell_type": "code",
      "execution_count": 2,
      "metadata": {
        "colab": {
          "base_uri": "https://localhost:8080/",
          "height": 206
        },
        "id": "RCj9ph74GOwW",
        "outputId": "166c49b8-384c-4866-b99f-262df062ef93"
      },
      "outputs": [
        {
          "output_type": "execute_result",
          "data": {
            "text/plain": [
              "        input      output\n",
              "0 -122.740667 -130.572085\n",
              "1 -121.531419 -129.938929\n",
              "2 -134.917019 -130.141832\n",
              "3 -120.605951 -125.760932\n",
              "4 -129.894781 -112.785214"
            ],
            "text/html": [
              "\n",
              "  <div id=\"df-fdc60c4d-a105-49c7-a1e9-d711bcae40c5\">\n",
              "    <div class=\"colab-df-container\">\n",
              "      <div>\n",
              "<style scoped>\n",
              "    .dataframe tbody tr th:only-of-type {\n",
              "        vertical-align: middle;\n",
              "    }\n",
              "\n",
              "    .dataframe tbody tr th {\n",
              "        vertical-align: top;\n",
              "    }\n",
              "\n",
              "    .dataframe thead th {\n",
              "        text-align: right;\n",
              "    }\n",
              "</style>\n",
              "<table border=\"1\" class=\"dataframe\">\n",
              "  <thead>\n",
              "    <tr style=\"text-align: right;\">\n",
              "      <th></th>\n",
              "      <th>input</th>\n",
              "      <th>output</th>\n",
              "    </tr>\n",
              "  </thead>\n",
              "  <tbody>\n",
              "    <tr>\n",
              "      <th>0</th>\n",
              "      <td>-122.740667</td>\n",
              "      <td>-130.572085</td>\n",
              "    </tr>\n",
              "    <tr>\n",
              "      <th>1</th>\n",
              "      <td>-121.531419</td>\n",
              "      <td>-129.938929</td>\n",
              "    </tr>\n",
              "    <tr>\n",
              "      <th>2</th>\n",
              "      <td>-134.917019</td>\n",
              "      <td>-130.141832</td>\n",
              "    </tr>\n",
              "    <tr>\n",
              "      <th>3</th>\n",
              "      <td>-120.605951</td>\n",
              "      <td>-125.760932</td>\n",
              "    </tr>\n",
              "    <tr>\n",
              "      <th>4</th>\n",
              "      <td>-129.894781</td>\n",
              "      <td>-112.785214</td>\n",
              "    </tr>\n",
              "  </tbody>\n",
              "</table>\n",
              "</div>\n",
              "      <button class=\"colab-df-convert\" onclick=\"convertToInteractive('df-fdc60c4d-a105-49c7-a1e9-d711bcae40c5')\"\n",
              "              title=\"Convert this dataframe to an interactive table.\"\n",
              "              style=\"display:none;\">\n",
              "        \n",
              "  <svg xmlns=\"http://www.w3.org/2000/svg\" height=\"24px\"viewBox=\"0 0 24 24\"\n",
              "       width=\"24px\">\n",
              "    <path d=\"M0 0h24v24H0V0z\" fill=\"none\"/>\n",
              "    <path d=\"M18.56 5.44l.94 2.06.94-2.06 2.06-.94-2.06-.94-.94-2.06-.94 2.06-2.06.94zm-11 1L8.5 8.5l.94-2.06 2.06-.94-2.06-.94L8.5 2.5l-.94 2.06-2.06.94zm10 10l.94 2.06.94-2.06 2.06-.94-2.06-.94-.94-2.06-.94 2.06-2.06.94z\"/><path d=\"M17.41 7.96l-1.37-1.37c-.4-.4-.92-.59-1.43-.59-.52 0-1.04.2-1.43.59L10.3 9.45l-7.72 7.72c-.78.78-.78 2.05 0 2.83L4 21.41c.39.39.9.59 1.41.59.51 0 1.02-.2 1.41-.59l7.78-7.78 2.81-2.81c.8-.78.8-2.07 0-2.86zM5.41 20L4 18.59l7.72-7.72 1.47 1.35L5.41 20z\"/>\n",
              "  </svg>\n",
              "      </button>\n",
              "      \n",
              "  <style>\n",
              "    .colab-df-container {\n",
              "      display:flex;\n",
              "      flex-wrap:wrap;\n",
              "      gap: 12px;\n",
              "    }\n",
              "\n",
              "    .colab-df-convert {\n",
              "      background-color: #E8F0FE;\n",
              "      border: none;\n",
              "      border-radius: 50%;\n",
              "      cursor: pointer;\n",
              "      display: none;\n",
              "      fill: #1967D2;\n",
              "      height: 32px;\n",
              "      padding: 0 0 0 0;\n",
              "      width: 32px;\n",
              "    }\n",
              "\n",
              "    .colab-df-convert:hover {\n",
              "      background-color: #E2EBFA;\n",
              "      box-shadow: 0px 1px 2px rgba(60, 64, 67, 0.3), 0px 1px 3px 1px rgba(60, 64, 67, 0.15);\n",
              "      fill: #174EA6;\n",
              "    }\n",
              "\n",
              "    [theme=dark] .colab-df-convert {\n",
              "      background-color: #3B4455;\n",
              "      fill: #D2E3FC;\n",
              "    }\n",
              "\n",
              "    [theme=dark] .colab-df-convert:hover {\n",
              "      background-color: #434B5C;\n",
              "      box-shadow: 0px 1px 3px 1px rgba(0, 0, 0, 0.15);\n",
              "      filter: drop-shadow(0px 1px 2px rgba(0, 0, 0, 0.3));\n",
              "      fill: #FFFFFF;\n",
              "    }\n",
              "  </style>\n",
              "\n",
              "      <script>\n",
              "        const buttonEl =\n",
              "          document.querySelector('#df-fdc60c4d-a105-49c7-a1e9-d711bcae40c5 button.colab-df-convert');\n",
              "        buttonEl.style.display =\n",
              "          google.colab.kernel.accessAllowed ? 'block' : 'none';\n",
              "\n",
              "        async function convertToInteractive(key) {\n",
              "          const element = document.querySelector('#df-fdc60c4d-a105-49c7-a1e9-d711bcae40c5');\n",
              "          const dataTable =\n",
              "            await google.colab.kernel.invokeFunction('convertToInteractive',\n",
              "                                                     [key], {});\n",
              "          if (!dataTable) return;\n",
              "\n",
              "          const docLinkHtml = 'Like what you see? Visit the ' +\n",
              "            '<a target=\"_blank\" href=https://colab.research.google.com/notebooks/data_table.ipynb>data table notebook</a>'\n",
              "            + ' to learn more about interactive tables.';\n",
              "          element.innerHTML = '';\n",
              "          dataTable['output_type'] = 'display_data';\n",
              "          await google.colab.output.renderOutput(dataTable, element);\n",
              "          const docLink = document.createElement('div');\n",
              "          docLink.innerHTML = docLinkHtml;\n",
              "          element.appendChild(docLink);\n",
              "        }\n",
              "      </script>\n",
              "    </div>\n",
              "  </div>\n",
              "  "
            ]
          },
          "metadata": {},
          "execution_count": 2
        }
      ],
      "source": [
        "df= pd.read_csv('dataframe_.csv')\n",
        "df.head(5)"
      ],
      "id": "RCj9ph74GOwW"
    },
    {
      "cell_type": "code",
      "execution_count": 3,
      "metadata": {
        "colab": {
          "base_uri": "https://localhost:8080/"
        },
        "id": "d5xZ5XQNGOwb",
        "outputId": "44adc73e-6487-4855-d924-1425e8a251b1"
      },
      "outputs": [
        {
          "output_type": "execute_result",
          "data": {
            "text/plain": [
              "-95.000000     32\n",
              "-33.000000     12\n",
              "-78.000000     12\n",
              "-32.000000     10\n",
              "-75.000000     10\n",
              "               ..\n",
              "-108.925420     1\n",
              "-80.761170      1\n",
              "-89.922634      1\n",
              "-109.797457     1\n",
              " 123.087950     1\n",
              "Name: output, Length: 969, dtype: int64"
            ]
          },
          "metadata": {},
          "execution_count": 3
        }
      ],
      "source": [
        "df['output'].value_counts()"
      ],
      "id": "d5xZ5XQNGOwb"
    },
    {
      "cell_type": "markdown",
      "metadata": {
        "id": "WVdv6a_qGOwd"
      },
      "source": [
        "# STEP 2"
      ],
      "id": "WVdv6a_qGOwd"
    },
    {
      "cell_type": "code",
      "execution_count": 4,
      "metadata": {
        "id": "dFigXUnPGOwe"
      },
      "outputs": [],
      "source": [
        "df.fillna(method='ffill',inplace= True)"
      ],
      "id": "dFigXUnPGOwe"
    },
    {
      "cell_type": "code",
      "execution_count": 5,
      "metadata": {
        "colab": {
          "base_uri": "https://localhost:8080/"
        },
        "id": "9ZFoY5swGOwg",
        "outputId": "75695a83-da62-4b9f-d102-2e94f8435d4e"
      },
      "outputs": [
        {
          "output_type": "execute_result",
          "data": {
            "text/plain": [
              "input     0\n",
              "output    0\n",
              "dtype: int64"
            ]
          },
          "metadata": {},
          "execution_count": 5
        }
      ],
      "source": [
        "df.isnull().sum()"
      ],
      "id": "9ZFoY5swGOwg"
    },
    {
      "cell_type": "code",
      "execution_count": 6,
      "metadata": {
        "colab": {
          "base_uri": "https://localhost:8080/"
        },
        "id": "hsf4pllWGOwj",
        "outputId": "4f2ac3e2-405b-4f2f-d429-6ad6b5326580"
      },
      "outputs": [
        {
          "output_type": "stream",
          "name": "stdout",
          "text": [
            "<class 'pandas.core.frame.DataFrame'>\n",
            "RangeIndex: 1697 entries, 0 to 1696\n",
            "Data columns (total 2 columns):\n",
            " #   Column  Non-Null Count  Dtype  \n",
            "---  ------  --------------  -----  \n",
            " 0   input   1697 non-null   float64\n",
            " 1   output  1697 non-null   float64\n",
            "dtypes: float64(2)\n",
            "memory usage: 26.6 KB\n"
          ]
        }
      ],
      "source": [
        "df.info()"
      ],
      "id": "hsf4pllWGOwj"
    },
    {
      "cell_type": "code",
      "execution_count": 7,
      "metadata": {
        "colab": {
          "base_uri": "https://localhost:8080/",
          "height": 300
        },
        "id": "EQsjuCBvGOwk",
        "outputId": "9e7f81e9-71d3-4851-d42b-ad86bd204c4a"
      },
      "outputs": [
        {
          "output_type": "execute_result",
          "data": {
            "text/plain": [
              "             input       output\n",
              "count  1697.000000  1697.000000\n",
              "mean      1.225637   -34.042227\n",
              "std      79.029039    65.778771\n",
              "min    -134.962839  -132.422167\n",
              "25%     -63.386506   -80.026767\n",
              "50%      10.382214   -50.376850\n",
              "75%      70.264109   -11.000000\n",
              "max     134.605775   134.425495"
            ],
            "text/html": [
              "\n",
              "  <div id=\"df-566e6655-c855-41b6-9724-171900d1d5e1\">\n",
              "    <div class=\"colab-df-container\">\n",
              "      <div>\n",
              "<style scoped>\n",
              "    .dataframe tbody tr th:only-of-type {\n",
              "        vertical-align: middle;\n",
              "    }\n",
              "\n",
              "    .dataframe tbody tr th {\n",
              "        vertical-align: top;\n",
              "    }\n",
              "\n",
              "    .dataframe thead th {\n",
              "        text-align: right;\n",
              "    }\n",
              "</style>\n",
              "<table border=\"1\" class=\"dataframe\">\n",
              "  <thead>\n",
              "    <tr style=\"text-align: right;\">\n",
              "      <th></th>\n",
              "      <th>input</th>\n",
              "      <th>output</th>\n",
              "    </tr>\n",
              "  </thead>\n",
              "  <tbody>\n",
              "    <tr>\n",
              "      <th>count</th>\n",
              "      <td>1697.000000</td>\n",
              "      <td>1697.000000</td>\n",
              "    </tr>\n",
              "    <tr>\n",
              "      <th>mean</th>\n",
              "      <td>1.225637</td>\n",
              "      <td>-34.042227</td>\n",
              "    </tr>\n",
              "    <tr>\n",
              "      <th>std</th>\n",
              "      <td>79.029039</td>\n",
              "      <td>65.778771</td>\n",
              "    </tr>\n",
              "    <tr>\n",
              "      <th>min</th>\n",
              "      <td>-134.962839</td>\n",
              "      <td>-132.422167</td>\n",
              "    </tr>\n",
              "    <tr>\n",
              "      <th>25%</th>\n",
              "      <td>-63.386506</td>\n",
              "      <td>-80.026767</td>\n",
              "    </tr>\n",
              "    <tr>\n",
              "      <th>50%</th>\n",
              "      <td>10.382214</td>\n",
              "      <td>-50.376850</td>\n",
              "    </tr>\n",
              "    <tr>\n",
              "      <th>75%</th>\n",
              "      <td>70.264109</td>\n",
              "      <td>-11.000000</td>\n",
              "    </tr>\n",
              "    <tr>\n",
              "      <th>max</th>\n",
              "      <td>134.605775</td>\n",
              "      <td>134.425495</td>\n",
              "    </tr>\n",
              "  </tbody>\n",
              "</table>\n",
              "</div>\n",
              "      <button class=\"colab-df-convert\" onclick=\"convertToInteractive('df-566e6655-c855-41b6-9724-171900d1d5e1')\"\n",
              "              title=\"Convert this dataframe to an interactive table.\"\n",
              "              style=\"display:none;\">\n",
              "        \n",
              "  <svg xmlns=\"http://www.w3.org/2000/svg\" height=\"24px\"viewBox=\"0 0 24 24\"\n",
              "       width=\"24px\">\n",
              "    <path d=\"M0 0h24v24H0V0z\" fill=\"none\"/>\n",
              "    <path d=\"M18.56 5.44l.94 2.06.94-2.06 2.06-.94-2.06-.94-.94-2.06-.94 2.06-2.06.94zm-11 1L8.5 8.5l.94-2.06 2.06-.94-2.06-.94L8.5 2.5l-.94 2.06-2.06.94zm10 10l.94 2.06.94-2.06 2.06-.94-2.06-.94-.94-2.06-.94 2.06-2.06.94z\"/><path d=\"M17.41 7.96l-1.37-1.37c-.4-.4-.92-.59-1.43-.59-.52 0-1.04.2-1.43.59L10.3 9.45l-7.72 7.72c-.78.78-.78 2.05 0 2.83L4 21.41c.39.39.9.59 1.41.59.51 0 1.02-.2 1.41-.59l7.78-7.78 2.81-2.81c.8-.78.8-2.07 0-2.86zM5.41 20L4 18.59l7.72-7.72 1.47 1.35L5.41 20z\"/>\n",
              "  </svg>\n",
              "      </button>\n",
              "      \n",
              "  <style>\n",
              "    .colab-df-container {\n",
              "      display:flex;\n",
              "      flex-wrap:wrap;\n",
              "      gap: 12px;\n",
              "    }\n",
              "\n",
              "    .colab-df-convert {\n",
              "      background-color: #E8F0FE;\n",
              "      border: none;\n",
              "      border-radius: 50%;\n",
              "      cursor: pointer;\n",
              "      display: none;\n",
              "      fill: #1967D2;\n",
              "      height: 32px;\n",
              "      padding: 0 0 0 0;\n",
              "      width: 32px;\n",
              "    }\n",
              "\n",
              "    .colab-df-convert:hover {\n",
              "      background-color: #E2EBFA;\n",
              "      box-shadow: 0px 1px 2px rgba(60, 64, 67, 0.3), 0px 1px 3px 1px rgba(60, 64, 67, 0.15);\n",
              "      fill: #174EA6;\n",
              "    }\n",
              "\n",
              "    [theme=dark] .colab-df-convert {\n",
              "      background-color: #3B4455;\n",
              "      fill: #D2E3FC;\n",
              "    }\n",
              "\n",
              "    [theme=dark] .colab-df-convert:hover {\n",
              "      background-color: #434B5C;\n",
              "      box-shadow: 0px 1px 3px 1px rgba(0, 0, 0, 0.15);\n",
              "      filter: drop-shadow(0px 1px 2px rgba(0, 0, 0, 0.3));\n",
              "      fill: #FFFFFF;\n",
              "    }\n",
              "  </style>\n",
              "\n",
              "      <script>\n",
              "        const buttonEl =\n",
              "          document.querySelector('#df-566e6655-c855-41b6-9724-171900d1d5e1 button.colab-df-convert');\n",
              "        buttonEl.style.display =\n",
              "          google.colab.kernel.accessAllowed ? 'block' : 'none';\n",
              "\n",
              "        async function convertToInteractive(key) {\n",
              "          const element = document.querySelector('#df-566e6655-c855-41b6-9724-171900d1d5e1');\n",
              "          const dataTable =\n",
              "            await google.colab.kernel.invokeFunction('convertToInteractive',\n",
              "                                                     [key], {});\n",
              "          if (!dataTable) return;\n",
              "\n",
              "          const docLinkHtml = 'Like what you see? Visit the ' +\n",
              "            '<a target=\"_blank\" href=https://colab.research.google.com/notebooks/data_table.ipynb>data table notebook</a>'\n",
              "            + ' to learn more about interactive tables.';\n",
              "          element.innerHTML = '';\n",
              "          dataTable['output_type'] = 'display_data';\n",
              "          await google.colab.output.renderOutput(dataTable, element);\n",
              "          const docLink = document.createElement('div');\n",
              "          docLink.innerHTML = docLinkHtml;\n",
              "          element.appendChild(docLink);\n",
              "        }\n",
              "      </script>\n",
              "    </div>\n",
              "  </div>\n",
              "  "
            ]
          },
          "metadata": {},
          "execution_count": 7
        }
      ],
      "source": [
        "df.describe()"
      ],
      "id": "EQsjuCBvGOwk"
    },
    {
      "cell_type": "code",
      "execution_count": 8,
      "metadata": {
        "colab": {
          "base_uri": "https://localhost:8080/",
          "height": 724
        },
        "id": "A26hJT3MGOwl",
        "outputId": "4f0c9d39-97bd-4712-8c7c-ec6612a3cdea"
      },
      "outputs": [
        {
          "output_type": "display_data",
          "data": {
            "text/plain": [
              "<Figure size 1440x1080 with 2 Axes>"
            ],
            "image/png": "[encoded data removed]"
          },
          "metadata": {
            "needs_background": "light"
          }
        }
      ],
      "source": [
        "import matplotlib.pyplot as plt\n",
        "df.hist(bins=50, figsize=(20,15))\n",
        "plt.show()"
      ],
      "id": "A26hJT3MGOwl"
    },
    {
      "cell_type": "code",
      "execution_count": 9,
      "metadata": {
        "colab": {
          "base_uri": "https://localhost:8080/",
          "height": 286
        },
        "id": "h5igbGjsGOwm",
        "outputId": "50e9c347-5997-4461-ed50-7768c53c7279"
      },
      "outputs": [
        {
          "output_type": "execute_result",
          "data": {
            "text/plain": [
              "<matplotlib.axes._subplots.AxesSubplot at 0x7f76a3060820>"
            ]
          },
          "metadata": {},
          "execution_count": 9
        },
        {
          "output_type": "display_data",
          "data": {
            "text/plain": [
              "<Figure size 432x288 with 2 Axes>"
            ],
            "image/png": "[encoded data removed]"
          },
          "metadata": {
            "needs_background": "light"
          }
        }
      ],
      "source": [
        "corr_matrix=df.corr()\n",
        "sns.heatmap(corr_matrix,annot=True)"
      ],
      "id": "h5igbGjsGOwm"
    },
    {
      "cell_type": "markdown",
      "metadata": {
        "id": "V_wb3bxkGOwn"
      },
      "source": [
        "# STEP 3"
      ],
      "id": "V_wb3bxkGOwn"
    },
    {
      "cell_type": "code",
      "execution_count": 10,
      "metadata": {
        "id": "IYn8uzHFGOwn"
      },
      "outputs": [],
      "source": [
        "from sklearn.model_selection import train_test_split\n",
        "from sklearn.ensemble import RandomForestRegressor\n"
      ],
      "id": "IYn8uzHFGOwn"
    },
    {
      "cell_type": "code",
      "execution_count": 11,
      "metadata": {
        "id": "RFNoSmy5GOwo"
      },
      "outputs": [],
      "source": [
        "train_set, test_set = train_test_split(df, test_size=0.2, random_state=42)"
      ],
      "id": "RFNoSmy5GOwo"
    },
    {
      "cell_type": "code",
      "execution_count": 12,
      "metadata": {
        "id": "0e-Pm5dMGOwp"
      },
      "outputs": [],
      "source": [
        "# Separate the predictors (X) and targets (y)\n",
        "X_train = train_set.drop(\"output\", axis=1)\n",
        "y_train = train_set[\"output\"]"
      ],
      "id": "0e-Pm5dMGOwp"
    },
    {
      "cell_type": "code",
      "execution_count": 13,
      "metadata": {
        "colab": {
          "base_uri": "https://localhost:8080/"
        },
        "id": "8Hh3V5OmGOwp",
        "outputId": "77f1e21a-c58e-4319-c60d-d5000ae2d2f6"
      },
      "outputs": [
        {
          "output_type": "execute_result",
          "data": {
            "text/plain": [
              "RandomForestRegressor(random_state=42)"
            ]
          },
          "metadata": {},
          "execution_count": 13
        }
      ],
      "source": [
        "# Train the model\n",
        "model = RandomForestRegressor(n_estimators=100, random_state=42)\n",
        "model.fit(X_train, y_train)"
      ],
      "id": "8Hh3V5OmGOwp"
    },
    {
      "cell_type": "markdown",
      "metadata": {
        "id": "1CaejsSSGOwq"
      },
      "source": [
        "# STEP 4"
      ],
      "id": "1CaejsSSGOwq"
    },
    {
      "cell_type": "code",
      "execution_count": 14,
      "metadata": {
        "id": "DkmlKA2HGOwr"
      },
      "outputs": [],
      "source": [
        "from sklearn.ensemble import IsolationForest\n",
        "from sklearn.pipeline import Pipeline\n",
        "from sklearn.compose import ColumnTransformer\n",
        "from sklearn.preprocessing import StandardScaler\n",
        "from sklearn.model_selection import GridSearchCV"
      ],
      "id": "DkmlKA2HGOwr"
    },
    {
      "cell_type": "code",
      "execution_count": 15,
      "metadata": {
        "colab": {
          "base_uri": "https://localhost:8080/"
        },
        "id": "TVeiO3XQGOwr",
        "outputId": "68a60134-ca17-4bbc-c3af-fcb9a5138d8a"
      },
      "outputs": [
        {
          "output_type": "stream",
          "name": "stderr",
          "text": [
            "/usr/local/lib/python3.8/dist-packages/sklearn/base.py:450: UserWarning: X does not have valid feature names, but IsolationForest was fitted with feature names\n",
            "  warnings.warn(\n"
          ]
        }
      ],
      "source": [
        "# Detect and treat outliers\n",
        "outlier_detector = IsolationForest(contamination=0.05, random_state=42)\n",
        "outliers = outlier_detector.fit_predict(df)\n",
        "df = df[outliers == 1]"
      ],
      "id": "TVeiO3XQGOwr"
    },
    {
      "cell_type": "code",
      "execution_count": 16,
      "metadata": {
        "id": "0Hdriq0dGOws"
      },
      "outputs": [],
      "source": [
        "\n",
        "# Feature engineering\n",
        "def feature_engineer(df):\n",
        "    df[\"new_feature\"] = df[\"input\"] + df[\"output\"]\n",
        "    return df\n",
        "\n",
        "df = feature_engineer(df)"
      ],
      "id": "0Hdriq0dGOws"
    },
    {
      "cell_type": "code",
      "execution_count": 17,
      "metadata": {
        "id": "dzfGmkrmGOwt"
      },
      "outputs": [],
      "source": [
        "# Separate the predictors (X) and targets (y)\n",
        "X = df.drop(\"output\", axis=1)\n",
        "y = df[\"output\"]"
      ],
      "id": "dzfGmkrmGOwt"
    },
    {
      "cell_type": "code",
      "execution_count": 18,
      "metadata": {
        "id": "jYndRHJsGOwu"
      },
      "outputs": [],
      "source": [
        "# Preprocessing and modeling pipeline\n",
        "preprocessor = ColumnTransformer(\n",
        "    transformers=[\n",
        "        (\"num\", StandardScaler(), X.columns)\n",
        "    ])\n",
        "\n",
        "model = RandomForestRegressor(n_estimators=100, random_state=42)\n",
        "\n",
        "pipeline = Pipeline([\n",
        "    (\"preprocessor\", preprocessor),\n",
        "    (\"model\", model)\n",
        "])"
      ],
      "id": "jYndRHJsGOwu"
    },
    {
      "cell_type": "code",
      "execution_count": 19,
      "metadata": {
        "colab": {
          "base_uri": "https://localhost:8080/"
        },
        "id": "SPL2hkcFGOwv",
        "outputId": "44c51434-a5a6-4011-f682-62851175265a"
      },
      "outputs": [
        {
          "output_type": "execute_result",
          "data": {
            "text/plain": [
              "GridSearchCV(cv=5,\n",
              "             estimator=Pipeline(steps=[('preprocessor',\n",
              "                                        ColumnTransformer(transformers=[('num',\n",
              "                                                                         StandardScaler(),\n",
              "                                                                         Index(['input', 'new_feature'], dtype='object'))])),\n",
              "                                       ('model',\n",
              "                                        RandomForestRegressor(random_state=42))]),\n",
              "             param_grid={'model__max_depth': [None, 5, 10, 15],\n",
              "                         'model__max_features': ['auto', 'sqrt', 'log2'],\n",
              "                         'model__min_samples_leaf': [1, 2, 5],\n",
              "                         'model__min_samples_split': [2, 5, 10]},\n",
              "             scoring='neg_mean_squared_error')"
            ]
          },
          "metadata": {},
          "execution_count": 19
        }
      ],
      "source": [
        "# Grid search for hyperparameter tuning\n",
        "param_grid = {\n",
        "    \"model__max_depth\": [None, 5, 10, 15],\n",
        "    \"model__min_samples_split\": [2, 5, 10],\n",
        "    \"model__min_samples_leaf\": [1, 2,5],\n",
        " \"model__max_features\": [\"auto\", \"sqrt\", \"log2\"],\n",
        "}\n",
        "\n",
        "grid_search = GridSearchCV(pipeline, param_grid, cv=5, scoring=\"neg_mean_squared_error\")\n",
        "grid_search.fit(X, y)"
      ],
      "id": "SPL2hkcFGOwv"
    },
    {
      "cell_type": "code",
      "execution_count": 20,
      "metadata": {
        "colab": {
          "base_uri": "https://localhost:8080/"
        },
        "id": "4mjMKVSAGOww",
        "outputId": "40559db7-fde5-4ddd-d9c0-a2e034bfd241"
      },
      "outputs": [
        {
          "output_type": "execute_result",
          "data": {
            "text/plain": [
              "Pipeline(steps=[('preprocessor',\n",
              "                 ColumnTransformer(transformers=[('num', StandardScaler(),\n",
              "                                                  Index(['input', 'new_feature'], dtype='object'))])),\n",
              "                ('model', RandomForestRegressor(random_state=42))])"
            ]
          },
          "metadata": {},
          "execution_count": 20
        }
      ],
      "source": [
        "# Get the best hyperparameters\n",
        "best_params = grid_search.best_params_\n",
        "\n",
        "# Train the final model with the best hyperparameters\n",
        "final_model = grid_search.best_estimator_\n",
        "final_model.fit(X, y)"
      ],
      "id": "4mjMKVSAGOww"
    },
    {
      "cell_type": "markdown",
      "metadata": {
        "id": "g8CbhwQDGOwx"
      },
      "source": [
        "# STEP 5"
      ],
      "id": "g8CbhwQDGOwx"
    },
    {
      "cell_type": "code",
      "execution_count": 21,
      "metadata": {
        "id": "tG1pngMJGOwy"
      },
      "outputs": [],
      "source": [
        "from sklearn.metrics import mean_squared_error, r2_score"
      ],
      "id": "tG1pngMJGOwy"
    },
    {
      "cell_type": "code",
      "execution_count": 32,
      "metadata": {
        "id": "zkM_ZJWVGOwz"
      },
      "outputs": [],
      "source": [
        "y_pred = final_model.predict(X)\n"
      ],
      "id": "zkM_ZJWVGOwz"
    },
    {
      "cell_type": "code",
      "execution_count": null,
      "metadata": {
        "id": "WsUNkJGnGOw0"
      },
      "outputs": [],
      "source": [
        "mse = mean_squared_error(X,'y_pred')\n",
        "r2 = r2_score(X, y_pred)"
      ],
      "id": "WsUNkJGnGOw0"
    },
    {
      "cell_type": "code",
      "execution_count": null,
      "metadata": {
        "id": "u2AoaRfmGOw0"
      },
      "outputs": [],
      "source": [
        "model_scores = {\"Final Model\": (mse, r2)}"
      ],
      "id": "u2AoaRfmGOw0"
    },
    {
      "cell_type": "code",
      "execution_count": null,
      "metadata": {
        "id": "qFCvDkQHGOw1"
      },
      "outputs": [],
      "source": [
        "model_scores"
      ],
      "id": "qFCvDkQHGOw1"
    },
    {
      "cell_type": "markdown",
      "metadata": {
        "id": "c8truVFTGOw2"
      },
      "source": [
        "# STEP 6"
      ],
      "id": "c8truVFTGOw2"
    },
    {
      "cell_type": "code",
      "execution_count": 43,
      "metadata": {
        "colab": {
          "base_uri": "https://localhost:8080/"
        },
        "id": "c20S8FaWGOw2",
        "outputId": "f7f1347d-f9b3-48f1-d069-b8a2e82fdd94"
      },
      "outputs": [
        {
          "output_type": "execute_result",
          "data": {
            "text/plain": [
              "LinearRegression()"
            ]
          },
          "metadata": {},
          "execution_count": 43
        }
      ],
      "source": [
        "from sklearn.linear_model import LinearRegression\n",
        "\n",
        "# Feature engineering\n",
        "df = feature_engineer(df)\n",
        "\n",
        "# Separate the predictors (X) and targets (y)\n",
        "X = df.drop(\"output\", axis=1)\n",
        "y = df[\"output\"]\n",
        "\n",
        "# Train the linear regression model\n",
        "lin_reg = LinearRegression()\n",
        "lin_reg.fit(X, y)"
      ],
      "id": "c20S8FaWGOw2"
    },
    {
      "cell_type": "code",
      "execution_count": 46,
      "metadata": {
        "colab": {
          "base_uri": "https://localhost:8080/",
          "height": 279
        },
        "id": "rIoWc6hbGOw3",
        "outputId": "c00e0116-b7b9-4f6f-a4bc-4f4dcf341f99"
      },
      "outputs": [
        {
          "output_type": "display_data",
          "data": {
            "text/plain": [
              "<Figure size 432x288 with 1 Axes>"
            ],
            "image/png": "[encoded data removed]"
          },
          "metadata": {
            "needs_background": "light"
          }
        }
      ],
      "source": [
        "plt.scatter(X[\"input\"],y_pred)\n",
        "plt.xlabel(\"Actual values\")\n",
        "plt.ylabel(\"Predicted values\")\n",
        "plt.show()"
      ],
      "id": "rIoWc6hbGOw3"
    },
    {
      "cell_type": "code",
      "execution_count": null,
      "metadata": {
        "id": "KgxIPVZCGOw3"
      },
      "outputs": [],
      "source": [],
      "id": "KgxIPVZCGOw3"
    }
  ],
  "metadata": {
    "kernelspec": {
      "display_name": "Python 3",
      "language": "python",
      "name": "python3"
    },
    "language_info": {
      "codemirror_mode": {
        "name": "ipython",
        "version": 3
      },
      "file_extension": ".py",
      "mimetype": "text/x-python",
      "name": "python",
      "nbconvert_exporter": "python",
      "pygments_lexer": "ipython3",
      "version": "3.7.6"
    },
    "colab": {
      "provenance": []
    }
  },
  "nbformat": 4,
  "nbformat_minor": 5
}